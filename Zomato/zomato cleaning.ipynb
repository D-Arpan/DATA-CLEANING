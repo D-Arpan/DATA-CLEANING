{
 "cells": [
  {
   "cell_type": "code",
   "execution_count": 414,
   "id": "13edc780",
   "metadata": {},
   "outputs": [],
   "source": [
    "import pandas as pd\n",
    "import numpy as np"
   ]
  },
  {
   "cell_type": "code",
   "execution_count": 415,
   "id": "ec52c58e",
   "metadata": {},
   "outputs": [
    {
     "data": {
      "text/html": [
       "<div>\n",
       "<style scoped>\n",
       "    .dataframe tbody tr th:only-of-type {\n",
       "        vertical-align: middle;\n",
       "    }\n",
       "\n",
       "    .dataframe tbody tr th {\n",
       "        vertical-align: top;\n",
       "    }\n",
       "\n",
       "    .dataframe thead th {\n",
       "        text-align: right;\n",
       "    }\n",
       "</style>\n",
       "<table border=\"1\" class=\"dataframe\">\n",
       "  <thead>\n",
       "    <tr style=\"text-align: right;\">\n",
       "      <th></th>\n",
       "      <th>url</th>\n",
       "      <th>address</th>\n",
       "      <th>name</th>\n",
       "      <th>online_order</th>\n",
       "      <th>book_table</th>\n",
       "      <th>rate</th>\n",
       "      <th>votes</th>\n",
       "      <th>phone</th>\n",
       "      <th>location</th>\n",
       "      <th>rest_type</th>\n",
       "      <th>dish_liked</th>\n",
       "      <th>cuisines</th>\n",
       "      <th>approx_cost(for two people)</th>\n",
       "      <th>reviews_list</th>\n",
       "      <th>menu_item</th>\n",
       "      <th>listed_in(type)</th>\n",
       "      <th>listed_in(city)</th>\n",
       "    </tr>\n",
       "  </thead>\n",
       "  <tbody>\n",
       "    <tr>\n",
       "      <th>0</th>\n",
       "      <td>https://www.zomato.com/bangalore/jalsa-banasha...</td>\n",
       "      <td>942, 21st Main Road, 2nd Stage, Banashankari, ...</td>\n",
       "      <td>Jalsa</td>\n",
       "      <td>Yes</td>\n",
       "      <td>Yes</td>\n",
       "      <td>4.1/5</td>\n",
       "      <td>775</td>\n",
       "      <td>080 42297555\\r\\n+91 9743772233</td>\n",
       "      <td>Banashankari</td>\n",
       "      <td>Casual Dining</td>\n",
       "      <td>Pasta, Lunch Buffet, Masala Papad, Paneer Laja...</td>\n",
       "      <td>North Indian, Mughlai, Chinese</td>\n",
       "      <td>800</td>\n",
       "      <td>[('Rated 4.0', 'RATED\\n  A beautiful place to ...</td>\n",
       "      <td>[]</td>\n",
       "      <td>Buffet</td>\n",
       "      <td>Banashankari</td>\n",
       "    </tr>\n",
       "    <tr>\n",
       "      <th>1</th>\n",
       "      <td>https://www.zomato.com/bangalore/spice-elephan...</td>\n",
       "      <td>2nd Floor, 80 Feet Road, Near Big Bazaar, 6th ...</td>\n",
       "      <td>Spice Elephant</td>\n",
       "      <td>Yes</td>\n",
       "      <td>No</td>\n",
       "      <td>4.1/5</td>\n",
       "      <td>787</td>\n",
       "      <td>080 41714161</td>\n",
       "      <td>Banashankari</td>\n",
       "      <td>Casual Dining</td>\n",
       "      <td>Momos, Lunch Buffet, Chocolate Nirvana, Thai G...</td>\n",
       "      <td>Chinese, North Indian, Thai</td>\n",
       "      <td>800</td>\n",
       "      <td>[('Rated 4.0', 'RATED\\n  Had been here for din...</td>\n",
       "      <td>[]</td>\n",
       "      <td>Buffet</td>\n",
       "      <td>Banashankari</td>\n",
       "    </tr>\n",
       "    <tr>\n",
       "      <th>2</th>\n",
       "      <td>https://www.zomato.com/SanchurroBangalore?cont...</td>\n",
       "      <td>1112, Next to KIMS Medical College, 17th Cross...</td>\n",
       "      <td>San Churro Cafe</td>\n",
       "      <td>Yes</td>\n",
       "      <td>No</td>\n",
       "      <td>3.8/5</td>\n",
       "      <td>918</td>\n",
       "      <td>+91 9663487993</td>\n",
       "      <td>Banashankari</td>\n",
       "      <td>Cafe, Casual Dining</td>\n",
       "      <td>Churros, Cannelloni, Minestrone Soup, Hot Choc...</td>\n",
       "      <td>Cafe, Mexican, Italian</td>\n",
       "      <td>800</td>\n",
       "      <td>[('Rated 3.0', \"RATED\\n  Ambience is not that ...</td>\n",
       "      <td>[]</td>\n",
       "      <td>Buffet</td>\n",
       "      <td>Banashankari</td>\n",
       "    </tr>\n",
       "    <tr>\n",
       "      <th>3</th>\n",
       "      <td>https://www.zomato.com/bangalore/addhuri-udupi...</td>\n",
       "      <td>1st Floor, Annakuteera, 3rd Stage, Banashankar...</td>\n",
       "      <td>Addhuri Udupi Bhojana</td>\n",
       "      <td>No</td>\n",
       "      <td>No</td>\n",
       "      <td>3.7/5</td>\n",
       "      <td>88</td>\n",
       "      <td>+91 9620009302</td>\n",
       "      <td>Banashankari</td>\n",
       "      <td>Quick Bites</td>\n",
       "      <td>Masala Dosa</td>\n",
       "      <td>South Indian, North Indian</td>\n",
       "      <td>300</td>\n",
       "      <td>[('Rated 4.0', \"RATED\\n  Great food and proper...</td>\n",
       "      <td>[]</td>\n",
       "      <td>Buffet</td>\n",
       "      <td>Banashankari</td>\n",
       "    </tr>\n",
       "    <tr>\n",
       "      <th>4</th>\n",
       "      <td>https://www.zomato.com/bangalore/grand-village...</td>\n",
       "      <td>10, 3rd Floor, Lakshmi Associates, Gandhi Baza...</td>\n",
       "      <td>Grand Village</td>\n",
       "      <td>No</td>\n",
       "      <td>No</td>\n",
       "      <td>3.8/5</td>\n",
       "      <td>166</td>\n",
       "      <td>+91 8026612447\\r\\n+91 9901210005</td>\n",
       "      <td>Basavanagudi</td>\n",
       "      <td>Casual Dining</td>\n",
       "      <td>Panipuri, Gol Gappe</td>\n",
       "      <td>North Indian, Rajasthani</td>\n",
       "      <td>600</td>\n",
       "      <td>[('Rated 4.0', 'RATED\\n  Very good restaurant ...</td>\n",
       "      <td>[]</td>\n",
       "      <td>Buffet</td>\n",
       "      <td>Banashankari</td>\n",
       "    </tr>\n",
       "  </tbody>\n",
       "</table>\n",
       "</div>"
      ],
      "text/plain": [
       "                                                 url  \\\n",
       "0  https://www.zomato.com/bangalore/jalsa-banasha...   \n",
       "1  https://www.zomato.com/bangalore/spice-elephan...   \n",
       "2  https://www.zomato.com/SanchurroBangalore?cont...   \n",
       "3  https://www.zomato.com/bangalore/addhuri-udupi...   \n",
       "4  https://www.zomato.com/bangalore/grand-village...   \n",
       "\n",
       "                                             address                   name  \\\n",
       "0  942, 21st Main Road, 2nd Stage, Banashankari, ...                  Jalsa   \n",
       "1  2nd Floor, 80 Feet Road, Near Big Bazaar, 6th ...         Spice Elephant   \n",
       "2  1112, Next to KIMS Medical College, 17th Cross...        San Churro Cafe   \n",
       "3  1st Floor, Annakuteera, 3rd Stage, Banashankar...  Addhuri Udupi Bhojana   \n",
       "4  10, 3rd Floor, Lakshmi Associates, Gandhi Baza...          Grand Village   \n",
       "\n",
       "  online_order book_table   rate  votes                             phone  \\\n",
       "0          Yes        Yes  4.1/5    775    080 42297555\\r\\n+91 9743772233   \n",
       "1          Yes         No  4.1/5    787                      080 41714161   \n",
       "2          Yes         No  3.8/5    918                    +91 9663487993   \n",
       "3           No         No  3.7/5     88                    +91 9620009302   \n",
       "4           No         No  3.8/5    166  +91 8026612447\\r\\n+91 9901210005   \n",
       "\n",
       "       location            rest_type  \\\n",
       "0  Banashankari        Casual Dining   \n",
       "1  Banashankari        Casual Dining   \n",
       "2  Banashankari  Cafe, Casual Dining   \n",
       "3  Banashankari          Quick Bites   \n",
       "4  Basavanagudi        Casual Dining   \n",
       "\n",
       "                                          dish_liked  \\\n",
       "0  Pasta, Lunch Buffet, Masala Papad, Paneer Laja...   \n",
       "1  Momos, Lunch Buffet, Chocolate Nirvana, Thai G...   \n",
       "2  Churros, Cannelloni, Minestrone Soup, Hot Choc...   \n",
       "3                                        Masala Dosa   \n",
       "4                                Panipuri, Gol Gappe   \n",
       "\n",
       "                         cuisines approx_cost(for two people)  \\\n",
       "0  North Indian, Mughlai, Chinese                         800   \n",
       "1     Chinese, North Indian, Thai                         800   \n",
       "2          Cafe, Mexican, Italian                         800   \n",
       "3      South Indian, North Indian                         300   \n",
       "4        North Indian, Rajasthani                         600   \n",
       "\n",
       "                                        reviews_list menu_item  \\\n",
       "0  [('Rated 4.0', 'RATED\\n  A beautiful place to ...        []   \n",
       "1  [('Rated 4.0', 'RATED\\n  Had been here for din...        []   \n",
       "2  [('Rated 3.0', \"RATED\\n  Ambience is not that ...        []   \n",
       "3  [('Rated 4.0', \"RATED\\n  Great food and proper...        []   \n",
       "4  [('Rated 4.0', 'RATED\\n  Very good restaurant ...        []   \n",
       "\n",
       "  listed_in(type) listed_in(city)  \n",
       "0          Buffet    Banashankari  \n",
       "1          Buffet    Banashankari  \n",
       "2          Buffet    Banashankari  \n",
       "3          Buffet    Banashankari  \n",
       "4          Buffet    Banashankari  "
      ]
     },
     "execution_count": 415,
     "metadata": {},
     "output_type": "execute_result"
    }
   ],
   "source": [
    "df = pd.read_csv('zomato.csv')\n",
    "df.head()"
   ]
  },
  {
   "cell_type": "code",
   "execution_count": 416,
   "id": "e7ba74c8",
   "metadata": {},
   "outputs": [
    {
     "name": "stdout",
     "output_type": "stream",
     "text": [
      "<class 'pandas.core.frame.DataFrame'>\n",
      "RangeIndex: 51717 entries, 0 to 51716\n",
      "Data columns (total 17 columns):\n",
      " #   Column                       Non-Null Count  Dtype \n",
      "---  ------                       --------------  ----- \n",
      " 0   url                          51717 non-null  object\n",
      " 1   address                      51717 non-null  object\n",
      " 2   name                         51717 non-null  object\n",
      " 3   online_order                 51717 non-null  object\n",
      " 4   book_table                   51717 non-null  object\n",
      " 5   rate                         43942 non-null  object\n",
      " 6   votes                        51717 non-null  int64 \n",
      " 7   phone                        50509 non-null  object\n",
      " 8   location                     51696 non-null  object\n",
      " 9   rest_type                    51490 non-null  object\n",
      " 10  dish_liked                   23639 non-null  object\n",
      " 11  cuisines                     51672 non-null  object\n",
      " 12  approx_cost(for two people)  51371 non-null  object\n",
      " 13  reviews_list                 51717 non-null  object\n",
      " 14  menu_item                    51717 non-null  object\n",
      " 15  listed_in(type)              51717 non-null  object\n",
      " 16  listed_in(city)              51717 non-null  object\n",
      "dtypes: int64(1), object(16)\n",
      "memory usage: 6.7+ MB\n"
     ]
    }
   ],
   "source": [
    "df.info()"
   ]
  },
  {
   "cell_type": "code",
   "execution_count": 417,
   "id": "20fab271",
   "metadata": {},
   "outputs": [
    {
     "data": {
      "text/plain": [
       "(51717, 17)"
      ]
     },
     "execution_count": 417,
     "metadata": {},
     "output_type": "execute_result"
    }
   ],
   "source": [
    "df.shape"
   ]
  },
  {
   "cell_type": "markdown",
   "id": "9ef09c40",
   "metadata": {},
   "source": [
    "# Data Cleaning:\n",
    "\n",
    "#### 1. Deleting redundant columns.\n",
    "#### 2. Renaming the columns.\n",
    "#### 3. Dropping duplicates.\n",
    "#### 4. Cleaning individual columns.\n",
    "#### 5. Remove the NaN values from the dataset\n",
    "#### 6. Check for some more Transformations\n"
   ]
  },
  {
   "cell_type": "code",
   "execution_count": 418,
   "id": "9ab611f8",
   "metadata": {},
   "outputs": [
    {
     "data": {
      "text/plain": [
       "Index(['url', 'address', 'name', 'online_order', 'book_table', 'rate', 'votes',\n",
       "       'phone', 'location', 'rest_type', 'dish_liked', 'cuisines',\n",
       "       'approx_cost(for two people)', 'reviews_list', 'menu_item',\n",
       "       'listed_in(type)', 'listed_in(city)'],\n",
       "      dtype='object')"
      ]
     },
     "execution_count": 418,
     "metadata": {},
     "output_type": "execute_result"
    }
   ],
   "source": [
    "df.columns"
   ]
  },
  {
   "cell_type": "code",
   "execution_count": 419,
   "id": "99466b30",
   "metadata": {},
   "outputs": [],
   "source": [
    "colums_to_keep = ['name', 'online_order', 'book_table', 'rate', 'votes', 'dish_liked', \n",
    "                  'cuisines', 'approx_cost(for two people)']\n",
    "colums_to_drop = ['url', 'address', 'phone', 'location', 'rest_type', 'reviews_list', \n",
    "                  'menu_item', 'listed_in(type)', 'listed_in(city)']"
   ]
  },
  {
   "cell_type": "code",
   "execution_count": 420,
   "id": "3e248606",
   "metadata": {},
   "outputs": [],
   "source": [
    "df = df[colums_to_keep]"
   ]
  },
  {
   "cell_type": "code",
   "execution_count": 421,
   "id": "00e4fbac",
   "metadata": {},
   "outputs": [
    {
     "data": {
      "text/plain": [
       "(51717, 8)"
      ]
     },
     "execution_count": 421,
     "metadata": {},
     "output_type": "execute_result"
    }
   ],
   "source": [
    "df.shape"
   ]
  },
  {
   "cell_type": "code",
   "execution_count": 422,
   "id": "88992dec",
   "metadata": {},
   "outputs": [
    {
     "data": {
      "text/html": [
       "<div>\n",
       "<style scoped>\n",
       "    .dataframe tbody tr th:only-of-type {\n",
       "        vertical-align: middle;\n",
       "    }\n",
       "\n",
       "    .dataframe tbody tr th {\n",
       "        vertical-align: top;\n",
       "    }\n",
       "\n",
       "    .dataframe thead th {\n",
       "        text-align: right;\n",
       "    }\n",
       "</style>\n",
       "<table border=\"1\" class=\"dataframe\">\n",
       "  <thead>\n",
       "    <tr style=\"text-align: right;\">\n",
       "      <th></th>\n",
       "      <th>name</th>\n",
       "      <th>online_order</th>\n",
       "      <th>book_table</th>\n",
       "      <th>rate</th>\n",
       "      <th>votes</th>\n",
       "      <th>dish_liked</th>\n",
       "      <th>cuisines</th>\n",
       "      <th>approx_cost(for two people)</th>\n",
       "    </tr>\n",
       "  </thead>\n",
       "  <tbody>\n",
       "    <tr>\n",
       "      <th>0</th>\n",
       "      <td>Jalsa</td>\n",
       "      <td>Yes</td>\n",
       "      <td>Yes</td>\n",
       "      <td>4.1/5</td>\n",
       "      <td>775</td>\n",
       "      <td>Pasta, Lunch Buffet, Masala Papad, Paneer Laja...</td>\n",
       "      <td>North Indian, Mughlai, Chinese</td>\n",
       "      <td>800</td>\n",
       "    </tr>\n",
       "    <tr>\n",
       "      <th>1</th>\n",
       "      <td>Spice Elephant</td>\n",
       "      <td>Yes</td>\n",
       "      <td>No</td>\n",
       "      <td>4.1/5</td>\n",
       "      <td>787</td>\n",
       "      <td>Momos, Lunch Buffet, Chocolate Nirvana, Thai G...</td>\n",
       "      <td>Chinese, North Indian, Thai</td>\n",
       "      <td>800</td>\n",
       "    </tr>\n",
       "    <tr>\n",
       "      <th>2</th>\n",
       "      <td>San Churro Cafe</td>\n",
       "      <td>Yes</td>\n",
       "      <td>No</td>\n",
       "      <td>3.8/5</td>\n",
       "      <td>918</td>\n",
       "      <td>Churros, Cannelloni, Minestrone Soup, Hot Choc...</td>\n",
       "      <td>Cafe, Mexican, Italian</td>\n",
       "      <td>800</td>\n",
       "    </tr>\n",
       "    <tr>\n",
       "      <th>3</th>\n",
       "      <td>Addhuri Udupi Bhojana</td>\n",
       "      <td>No</td>\n",
       "      <td>No</td>\n",
       "      <td>3.7/5</td>\n",
       "      <td>88</td>\n",
       "      <td>Masala Dosa</td>\n",
       "      <td>South Indian, North Indian</td>\n",
       "      <td>300</td>\n",
       "    </tr>\n",
       "    <tr>\n",
       "      <th>4</th>\n",
       "      <td>Grand Village</td>\n",
       "      <td>No</td>\n",
       "      <td>No</td>\n",
       "      <td>3.8/5</td>\n",
       "      <td>166</td>\n",
       "      <td>Panipuri, Gol Gappe</td>\n",
       "      <td>North Indian, Rajasthani</td>\n",
       "      <td>600</td>\n",
       "    </tr>\n",
       "  </tbody>\n",
       "</table>\n",
       "</div>"
      ],
      "text/plain": [
       "                    name online_order book_table   rate  votes  \\\n",
       "0                  Jalsa          Yes        Yes  4.1/5    775   \n",
       "1         Spice Elephant          Yes         No  4.1/5    787   \n",
       "2        San Churro Cafe          Yes         No  3.8/5    918   \n",
       "3  Addhuri Udupi Bhojana           No         No  3.7/5     88   \n",
       "4          Grand Village           No         No  3.8/5    166   \n",
       "\n",
       "                                          dish_liked  \\\n",
       "0  Pasta, Lunch Buffet, Masala Papad, Paneer Laja...   \n",
       "1  Momos, Lunch Buffet, Chocolate Nirvana, Thai G...   \n",
       "2  Churros, Cannelloni, Minestrone Soup, Hot Choc...   \n",
       "3                                        Masala Dosa   \n",
       "4                                Panipuri, Gol Gappe   \n",
       "\n",
       "                         cuisines approx_cost(for two people)  \n",
       "0  North Indian, Mughlai, Chinese                         800  \n",
       "1     Chinese, North Indian, Thai                         800  \n",
       "2          Cafe, Mexican, Italian                         800  \n",
       "3      South Indian, North Indian                         300  \n",
       "4        North Indian, Rajasthani                         600  "
      ]
     },
     "execution_count": 422,
     "metadata": {},
     "output_type": "execute_result"
    }
   ],
   "source": [
    "df.head()"
   ]
  },
  {
   "cell_type": "code",
   "execution_count": 423,
   "id": "a1b61db4",
   "metadata": {},
   "outputs": [],
   "source": [
    "df.columns = df.columns.str.upper()\n",
    "df.columns = df.columns.str.replace('_',' ', regex=True)"
   ]
  },
  {
   "cell_type": "code",
   "execution_count": 424,
   "id": "c21204fc",
   "metadata": {},
   "outputs": [
    {
     "data": {
      "text/html": [
       "<div>\n",
       "<style scoped>\n",
       "    .dataframe tbody tr th:only-of-type {\n",
       "        vertical-align: middle;\n",
       "    }\n",
       "\n",
       "    .dataframe tbody tr th {\n",
       "        vertical-align: top;\n",
       "    }\n",
       "\n",
       "    .dataframe thead th {\n",
       "        text-align: right;\n",
       "    }\n",
       "</style>\n",
       "<table border=\"1\" class=\"dataframe\">\n",
       "  <thead>\n",
       "    <tr style=\"text-align: right;\">\n",
       "      <th></th>\n",
       "      <th>NAME</th>\n",
       "      <th>ONLINE ORDER</th>\n",
       "      <th>BOOK TABLE</th>\n",
       "      <th>RATE</th>\n",
       "      <th>VOTES</th>\n",
       "      <th>DISH LIKED</th>\n",
       "      <th>CUISINES</th>\n",
       "      <th>APPROX COST(FOR TWO PEOPLE)</th>\n",
       "    </tr>\n",
       "  </thead>\n",
       "  <tbody>\n",
       "    <tr>\n",
       "      <th>0</th>\n",
       "      <td>Jalsa</td>\n",
       "      <td>Yes</td>\n",
       "      <td>Yes</td>\n",
       "      <td>4.1/5</td>\n",
       "      <td>775</td>\n",
       "      <td>Pasta, Lunch Buffet, Masala Papad, Paneer Laja...</td>\n",
       "      <td>North Indian, Mughlai, Chinese</td>\n",
       "      <td>800</td>\n",
       "    </tr>\n",
       "    <tr>\n",
       "      <th>1</th>\n",
       "      <td>Spice Elephant</td>\n",
       "      <td>Yes</td>\n",
       "      <td>No</td>\n",
       "      <td>4.1/5</td>\n",
       "      <td>787</td>\n",
       "      <td>Momos, Lunch Buffet, Chocolate Nirvana, Thai G...</td>\n",
       "      <td>Chinese, North Indian, Thai</td>\n",
       "      <td>800</td>\n",
       "    </tr>\n",
       "    <tr>\n",
       "      <th>2</th>\n",
       "      <td>San Churro Cafe</td>\n",
       "      <td>Yes</td>\n",
       "      <td>No</td>\n",
       "      <td>3.8/5</td>\n",
       "      <td>918</td>\n",
       "      <td>Churros, Cannelloni, Minestrone Soup, Hot Choc...</td>\n",
       "      <td>Cafe, Mexican, Italian</td>\n",
       "      <td>800</td>\n",
       "    </tr>\n",
       "    <tr>\n",
       "      <th>3</th>\n",
       "      <td>Addhuri Udupi Bhojana</td>\n",
       "      <td>No</td>\n",
       "      <td>No</td>\n",
       "      <td>3.7/5</td>\n",
       "      <td>88</td>\n",
       "      <td>Masala Dosa</td>\n",
       "      <td>South Indian, North Indian</td>\n",
       "      <td>300</td>\n",
       "    </tr>\n",
       "    <tr>\n",
       "      <th>4</th>\n",
       "      <td>Grand Village</td>\n",
       "      <td>No</td>\n",
       "      <td>No</td>\n",
       "      <td>3.8/5</td>\n",
       "      <td>166</td>\n",
       "      <td>Panipuri, Gol Gappe</td>\n",
       "      <td>North Indian, Rajasthani</td>\n",
       "      <td>600</td>\n",
       "    </tr>\n",
       "  </tbody>\n",
       "</table>\n",
       "</div>"
      ],
      "text/plain": [
       "                    NAME ONLINE ORDER BOOK TABLE   RATE  VOTES  \\\n",
       "0                  Jalsa          Yes        Yes  4.1/5    775   \n",
       "1         Spice Elephant          Yes         No  4.1/5    787   \n",
       "2        San Churro Cafe          Yes         No  3.8/5    918   \n",
       "3  Addhuri Udupi Bhojana           No         No  3.7/5     88   \n",
       "4          Grand Village           No         No  3.8/5    166   \n",
       "\n",
       "                                          DISH LIKED  \\\n",
       "0  Pasta, Lunch Buffet, Masala Papad, Paneer Laja...   \n",
       "1  Momos, Lunch Buffet, Chocolate Nirvana, Thai G...   \n",
       "2  Churros, Cannelloni, Minestrone Soup, Hot Choc...   \n",
       "3                                        Masala Dosa   \n",
       "4                                Panipuri, Gol Gappe   \n",
       "\n",
       "                         CUISINES APPROX COST(FOR TWO PEOPLE)  \n",
       "0  North Indian, Mughlai, Chinese                         800  \n",
       "1     Chinese, North Indian, Thai                         800  \n",
       "2          Cafe, Mexican, Italian                         800  \n",
       "3      South Indian, North Indian                         300  \n",
       "4        North Indian, Rajasthani                         600  "
      ]
     },
     "execution_count": 424,
     "metadata": {},
     "output_type": "execute_result"
    }
   ],
   "source": [
    "df.head()"
   ]
  },
  {
   "cell_type": "code",
   "execution_count": 425,
   "id": "9f760f11",
   "metadata": {},
   "outputs": [],
   "source": [
    "df.duplicated().sum()\n",
    "df.drop_duplicates(inplace=True)"
   ]
  },
  {
   "cell_type": "code",
   "execution_count": 426,
   "id": "7647286a",
   "metadata": {},
   "outputs": [
    {
     "data": {
      "text/plain": [
       "(22752, 8)"
      ]
     },
     "execution_count": 426,
     "metadata": {},
     "output_type": "execute_result"
    }
   ],
   "source": [
    "df.shape"
   ]
  },
  {
   "cell_type": "code",
   "execution_count": 427,
   "id": "3ba247f7",
   "metadata": {},
   "outputs": [
    {
     "data": {
      "text/html": [
       "<div>\n",
       "<style scoped>\n",
       "    .dataframe tbody tr th:only-of-type {\n",
       "        vertical-align: middle;\n",
       "    }\n",
       "\n",
       "    .dataframe tbody tr th {\n",
       "        vertical-align: top;\n",
       "    }\n",
       "\n",
       "    .dataframe thead th {\n",
       "        text-align: right;\n",
       "    }\n",
       "</style>\n",
       "<table border=\"1\" class=\"dataframe\">\n",
       "  <thead>\n",
       "    <tr style=\"text-align: right;\">\n",
       "      <th></th>\n",
       "      <th>NAME</th>\n",
       "      <th>ONLINE ORDER</th>\n",
       "      <th>BOOK TABLE</th>\n",
       "      <th>RATE</th>\n",
       "      <th>VOTES</th>\n",
       "      <th>DISH LIKED</th>\n",
       "      <th>CUISINES</th>\n",
       "      <th>APPROX COST(FOR TWO PEOPLE)</th>\n",
       "    </tr>\n",
       "  </thead>\n",
       "  <tbody>\n",
       "    <tr>\n",
       "      <th>0</th>\n",
       "      <td>Jalsa</td>\n",
       "      <td>Yes</td>\n",
       "      <td>Yes</td>\n",
       "      <td>4.1/5</td>\n",
       "      <td>775</td>\n",
       "      <td>Pasta, Lunch Buffet, Masala Papad, Paneer Laja...</td>\n",
       "      <td>North Indian, Mughlai, Chinese</td>\n",
       "      <td>800</td>\n",
       "    </tr>\n",
       "    <tr>\n",
       "      <th>1</th>\n",
       "      <td>Spice Elephant</td>\n",
       "      <td>Yes</td>\n",
       "      <td>No</td>\n",
       "      <td>4.1/5</td>\n",
       "      <td>787</td>\n",
       "      <td>Momos, Lunch Buffet, Chocolate Nirvana, Thai G...</td>\n",
       "      <td>Chinese, North Indian, Thai</td>\n",
       "      <td>800</td>\n",
       "    </tr>\n",
       "    <tr>\n",
       "      <th>2</th>\n",
       "      <td>San Churro Cafe</td>\n",
       "      <td>Yes</td>\n",
       "      <td>No</td>\n",
       "      <td>3.8/5</td>\n",
       "      <td>918</td>\n",
       "      <td>Churros, Cannelloni, Minestrone Soup, Hot Choc...</td>\n",
       "      <td>Cafe, Mexican, Italian</td>\n",
       "      <td>800</td>\n",
       "    </tr>\n",
       "    <tr>\n",
       "      <th>3</th>\n",
       "      <td>Addhuri Udupi Bhojana</td>\n",
       "      <td>No</td>\n",
       "      <td>No</td>\n",
       "      <td>3.7/5</td>\n",
       "      <td>88</td>\n",
       "      <td>Masala Dosa</td>\n",
       "      <td>South Indian, North Indian</td>\n",
       "      <td>300</td>\n",
       "    </tr>\n",
       "    <tr>\n",
       "      <th>4</th>\n",
       "      <td>Grand Village</td>\n",
       "      <td>No</td>\n",
       "      <td>No</td>\n",
       "      <td>3.8/5</td>\n",
       "      <td>166</td>\n",
       "      <td>Panipuri, Gol Gappe</td>\n",
       "      <td>North Indian, Rajasthani</td>\n",
       "      <td>600</td>\n",
       "    </tr>\n",
       "  </tbody>\n",
       "</table>\n",
       "</div>"
      ],
      "text/plain": [
       "                    NAME ONLINE ORDER BOOK TABLE   RATE  VOTES  \\\n",
       "0                  Jalsa          Yes        Yes  4.1/5    775   \n",
       "1         Spice Elephant          Yes         No  4.1/5    787   \n",
       "2        San Churro Cafe          Yes         No  3.8/5    918   \n",
       "3  Addhuri Udupi Bhojana           No         No  3.7/5     88   \n",
       "4          Grand Village           No         No  3.8/5    166   \n",
       "\n",
       "                                          DISH LIKED  \\\n",
       "0  Pasta, Lunch Buffet, Masala Papad, Paneer Laja...   \n",
       "1  Momos, Lunch Buffet, Chocolate Nirvana, Thai G...   \n",
       "2  Churros, Cannelloni, Minestrone Soup, Hot Choc...   \n",
       "3                                        Masala Dosa   \n",
       "4                                Panipuri, Gol Gappe   \n",
       "\n",
       "                         CUISINES APPROX COST(FOR TWO PEOPLE)  \n",
       "0  North Indian, Mughlai, Chinese                         800  \n",
       "1     Chinese, North Indian, Thai                         800  \n",
       "2          Cafe, Mexican, Italian                         800  \n",
       "3      South Indian, North Indian                         300  \n",
       "4        North Indian, Rajasthani                         600  "
      ]
     },
     "execution_count": 427,
     "metadata": {},
     "output_type": "execute_result"
    }
   ],
   "source": [
    "df.head()"
   ]
  },
  {
   "cell_type": "code",
   "execution_count": 428,
   "id": "f717ccc8",
   "metadata": {},
   "outputs": [
    {
     "data": {
      "text/plain": [
       "NAME                               0\n",
       "ONLINE ORDER                       0\n",
       "BOOK TABLE                         0\n",
       "RATE                            2464\n",
       "VOTES                              0\n",
       "DISH LIKED                     11444\n",
       "CUISINES                          28\n",
       "APPROX COST(FOR TWO PEOPLE)      141\n",
       "dtype: int64"
      ]
     },
     "execution_count": 428,
     "metadata": {},
     "output_type": "execute_result"
    }
   ],
   "source": [
    "df.isna().sum()"
   ]
  },
  {
   "cell_type": "code",
   "execution_count": 429,
   "id": "0050645d",
   "metadata": {},
   "outputs": [
    {
     "data": {
      "text/html": [
       "<div>\n",
       "<style scoped>\n",
       "    .dataframe tbody tr th:only-of-type {\n",
       "        vertical-align: middle;\n",
       "    }\n",
       "\n",
       "    .dataframe tbody tr th {\n",
       "        vertical-align: top;\n",
       "    }\n",
       "\n",
       "    .dataframe thead th {\n",
       "        text-align: right;\n",
       "    }\n",
       "</style>\n",
       "<table border=\"1\" class=\"dataframe\">\n",
       "  <thead>\n",
       "    <tr style=\"text-align: right;\">\n",
       "      <th></th>\n",
       "      <th>NAME</th>\n",
       "      <th>ONLINE ORDER</th>\n",
       "      <th>BOOK TABLE</th>\n",
       "      <th>RATE</th>\n",
       "      <th>VOTES</th>\n",
       "      <th>CUISINES</th>\n",
       "      <th>APPROX COST(FOR TWO PEOPLE)</th>\n",
       "    </tr>\n",
       "  </thead>\n",
       "  <tbody>\n",
       "    <tr>\n",
       "      <th>0</th>\n",
       "      <td>Jalsa</td>\n",
       "      <td>Yes</td>\n",
       "      <td>Yes</td>\n",
       "      <td>4.1/5</td>\n",
       "      <td>775</td>\n",
       "      <td>North Indian, Mughlai, Chinese</td>\n",
       "      <td>800</td>\n",
       "    </tr>\n",
       "    <tr>\n",
       "      <th>1</th>\n",
       "      <td>Spice Elephant</td>\n",
       "      <td>Yes</td>\n",
       "      <td>No</td>\n",
       "      <td>4.1/5</td>\n",
       "      <td>787</td>\n",
       "      <td>Chinese, North Indian, Thai</td>\n",
       "      <td>800</td>\n",
       "    </tr>\n",
       "    <tr>\n",
       "      <th>2</th>\n",
       "      <td>San Churro Cafe</td>\n",
       "      <td>Yes</td>\n",
       "      <td>No</td>\n",
       "      <td>3.8/5</td>\n",
       "      <td>918</td>\n",
       "      <td>Cafe, Mexican, Italian</td>\n",
       "      <td>800</td>\n",
       "    </tr>\n",
       "    <tr>\n",
       "      <th>3</th>\n",
       "      <td>Addhuri Udupi Bhojana</td>\n",
       "      <td>No</td>\n",
       "      <td>No</td>\n",
       "      <td>3.7/5</td>\n",
       "      <td>88</td>\n",
       "      <td>South Indian, North Indian</td>\n",
       "      <td>300</td>\n",
       "    </tr>\n",
       "    <tr>\n",
       "      <th>4</th>\n",
       "      <td>Grand Village</td>\n",
       "      <td>No</td>\n",
       "      <td>No</td>\n",
       "      <td>3.8/5</td>\n",
       "      <td>166</td>\n",
       "      <td>North Indian, Rajasthani</td>\n",
       "      <td>600</td>\n",
       "    </tr>\n",
       "    <tr>\n",
       "      <th>...</th>\n",
       "      <td>...</td>\n",
       "      <td>...</td>\n",
       "      <td>...</td>\n",
       "      <td>...</td>\n",
       "      <td>...</td>\n",
       "      <td>...</td>\n",
       "      <td>...</td>\n",
       "    </tr>\n",
       "    <tr>\n",
       "      <th>51631</th>\n",
       "      <td>Just Parathas</td>\n",
       "      <td>No</td>\n",
       "      <td>No</td>\n",
       "      <td>3.4 /5</td>\n",
       "      <td>5</td>\n",
       "      <td>North Indian</td>\n",
       "      <td>250</td>\n",
       "    </tr>\n",
       "    <tr>\n",
       "      <th>51632</th>\n",
       "      <td>SeeYa Restaurant</td>\n",
       "      <td>No</td>\n",
       "      <td>No</td>\n",
       "      <td>3.3 /5</td>\n",
       "      <td>4</td>\n",
       "      <td>North Indian, Kerala, Chinese</td>\n",
       "      <td>350</td>\n",
       "    </tr>\n",
       "    <tr>\n",
       "      <th>51641</th>\n",
       "      <td>Andhra Spices</td>\n",
       "      <td>No</td>\n",
       "      <td>No</td>\n",
       "      <td>3.2 /5</td>\n",
       "      <td>4</td>\n",
       "      <td>Andhra, Chinese, South Indian</td>\n",
       "      <td>NaN</td>\n",
       "    </tr>\n",
       "    <tr>\n",
       "      <th>51677</th>\n",
       "      <td>Bhagini</td>\n",
       "      <td>No</td>\n",
       "      <td>No</td>\n",
       "      <td>2.5 /5</td>\n",
       "      <td>81</td>\n",
       "      <td>Andhra, South Indian, Chinese, North Indian</td>\n",
       "      <td>800</td>\n",
       "    </tr>\n",
       "    <tr>\n",
       "      <th>51714</th>\n",
       "      <td>Plunge - Sheraton Grand Bengaluru Whitefield H...</td>\n",
       "      <td>No</td>\n",
       "      <td>No</td>\n",
       "      <td>NaN</td>\n",
       "      <td>0</td>\n",
       "      <td>Finger Food</td>\n",
       "      <td>2,000</td>\n",
       "    </tr>\n",
       "  </tbody>\n",
       "</table>\n",
       "<p>22752 rows × 7 columns</p>\n",
       "</div>"
      ],
      "text/plain": [
       "                                                    NAME ONLINE ORDER  \\\n",
       "0                                                  Jalsa          Yes   \n",
       "1                                         Spice Elephant          Yes   \n",
       "2                                        San Churro Cafe          Yes   \n",
       "3                                  Addhuri Udupi Bhojana           No   \n",
       "4                                          Grand Village           No   \n",
       "...                                                  ...          ...   \n",
       "51631                                      Just Parathas           No   \n",
       "51632                                   SeeYa Restaurant           No   \n",
       "51641                                      Andhra Spices           No   \n",
       "51677                                            Bhagini           No   \n",
       "51714  Plunge - Sheraton Grand Bengaluru Whitefield H...           No   \n",
       "\n",
       "      BOOK TABLE    RATE  VOTES                                     CUISINES  \\\n",
       "0            Yes   4.1/5    775               North Indian, Mughlai, Chinese   \n",
       "1             No   4.1/5    787                  Chinese, North Indian, Thai   \n",
       "2             No   3.8/5    918                       Cafe, Mexican, Italian   \n",
       "3             No   3.7/5     88                   South Indian, North Indian   \n",
       "4             No   3.8/5    166                     North Indian, Rajasthani   \n",
       "...          ...     ...    ...                                          ...   \n",
       "51631         No  3.4 /5      5                                 North Indian   \n",
       "51632         No  3.3 /5      4                North Indian, Kerala, Chinese   \n",
       "51641         No  3.2 /5      4                Andhra, Chinese, South Indian   \n",
       "51677         No  2.5 /5     81  Andhra, South Indian, Chinese, North Indian   \n",
       "51714         No     NaN      0                                  Finger Food   \n",
       "\n",
       "      APPROX COST(FOR TWO PEOPLE)  \n",
       "0                             800  \n",
       "1                             800  \n",
       "2                             800  \n",
       "3                             300  \n",
       "4                             600  \n",
       "...                           ...  \n",
       "51631                         250  \n",
       "51632                         350  \n",
       "51641                         NaN  \n",
       "51677                         800  \n",
       "51714                       2,000  \n",
       "\n",
       "[22752 rows x 7 columns]"
      ]
     },
     "execution_count": 429,
     "metadata": {},
     "output_type": "execute_result"
    }
   ],
   "source": [
    "df.drop(columns='DISH LIKED', inplace=True)\n",
    "df"
   ]
  },
  {
   "cell_type": "code",
   "execution_count": 430,
   "id": "5dd1a91d",
   "metadata": {},
   "outputs": [
    {
     "data": {
      "text/plain": [
       "NAME                              0\n",
       "ONLINE ORDER                      0\n",
       "BOOK TABLE                        0\n",
       "RATE                           2464\n",
       "VOTES                             0\n",
       "CUISINES                         28\n",
       "APPROX COST(FOR TWO PEOPLE)     141\n",
       "dtype: int64"
      ]
     },
     "execution_count": 430,
     "metadata": {},
     "output_type": "execute_result"
    }
   ],
   "source": [
    "df.isna().sum()"
   ]
  },
  {
   "cell_type": "code",
   "execution_count": 431,
   "id": "c10adda4",
   "metadata": {},
   "outputs": [],
   "source": [
    "del colums_to_drop"
   ]
  },
  {
   "cell_type": "code",
   "execution_count": 432,
   "id": "c55a4a94",
   "metadata": {},
   "outputs": [
    {
     "data": {
      "text/html": [
       "<div>\n",
       "<style scoped>\n",
       "    .dataframe tbody tr th:only-of-type {\n",
       "        vertical-align: middle;\n",
       "    }\n",
       "\n",
       "    .dataframe tbody tr th {\n",
       "        vertical-align: top;\n",
       "    }\n",
       "\n",
       "    .dataframe thead th {\n",
       "        text-align: right;\n",
       "    }\n",
       "</style>\n",
       "<table border=\"1\" class=\"dataframe\">\n",
       "  <thead>\n",
       "    <tr style=\"text-align: right;\">\n",
       "      <th></th>\n",
       "      <th>NAME</th>\n",
       "      <th>ONLINE ORDER</th>\n",
       "      <th>BOOK TABLE</th>\n",
       "      <th>RATE</th>\n",
       "      <th>VOTES</th>\n",
       "      <th>CUISINES</th>\n",
       "      <th>APPROX COST(FOR TWO PEOPLE)</th>\n",
       "    </tr>\n",
       "  </thead>\n",
       "  <tbody>\n",
       "    <tr>\n",
       "      <th>0</th>\n",
       "      <td>JALSA</td>\n",
       "      <td>Yes</td>\n",
       "      <td>Yes</td>\n",
       "      <td>4.1/5</td>\n",
       "      <td>775</td>\n",
       "      <td>North Indian, Mughlai, Chinese</td>\n",
       "      <td>800</td>\n",
       "    </tr>\n",
       "    <tr>\n",
       "      <th>1</th>\n",
       "      <td>SPICE ELEPHANT</td>\n",
       "      <td>Yes</td>\n",
       "      <td>No</td>\n",
       "      <td>4.1/5</td>\n",
       "      <td>787</td>\n",
       "      <td>Chinese, North Indian, Thai</td>\n",
       "      <td>800</td>\n",
       "    </tr>\n",
       "    <tr>\n",
       "      <th>2</th>\n",
       "      <td>SAN CHURRO CAFE</td>\n",
       "      <td>Yes</td>\n",
       "      <td>No</td>\n",
       "      <td>3.8/5</td>\n",
       "      <td>918</td>\n",
       "      <td>Cafe, Mexican, Italian</td>\n",
       "      <td>800</td>\n",
       "    </tr>\n",
       "    <tr>\n",
       "      <th>3</th>\n",
       "      <td>ADDHURI UDUPI BHOJANA</td>\n",
       "      <td>No</td>\n",
       "      <td>No</td>\n",
       "      <td>3.7/5</td>\n",
       "      <td>88</td>\n",
       "      <td>South Indian, North Indian</td>\n",
       "      <td>300</td>\n",
       "    </tr>\n",
       "    <tr>\n",
       "      <th>4</th>\n",
       "      <td>GRAND VILLAGE</td>\n",
       "      <td>No</td>\n",
       "      <td>No</td>\n",
       "      <td>3.8/5</td>\n",
       "      <td>166</td>\n",
       "      <td>North Indian, Rajasthani</td>\n",
       "      <td>600</td>\n",
       "    </tr>\n",
       "  </tbody>\n",
       "</table>\n",
       "</div>"
      ],
      "text/plain": [
       "                    NAME ONLINE ORDER BOOK TABLE   RATE  VOTES  \\\n",
       "0                  JALSA          Yes        Yes  4.1/5    775   \n",
       "1         SPICE ELEPHANT          Yes         No  4.1/5    787   \n",
       "2        SAN CHURRO CAFE          Yes         No  3.8/5    918   \n",
       "3  ADDHURI UDUPI BHOJANA           No         No  3.7/5     88   \n",
       "4          GRAND VILLAGE           No         No  3.8/5    166   \n",
       "\n",
       "                         CUISINES APPROX COST(FOR TWO PEOPLE)  \n",
       "0  North Indian, Mughlai, Chinese                         800  \n",
       "1     Chinese, North Indian, Thai                         800  \n",
       "2          Cafe, Mexican, Italian                         800  \n",
       "3      South Indian, North Indian                         300  \n",
       "4        North Indian, Rajasthani                         600  "
      ]
     },
     "execution_count": 432,
     "metadata": {},
     "output_type": "execute_result"
    }
   ],
   "source": [
    "df['NAME'] = df['NAME'].str.upper()\n",
    "df.head()"
   ]
  },
  {
   "cell_type": "code",
   "execution_count": 433,
   "id": "5cbcf24e",
   "metadata": {},
   "outputs": [
    {
     "data": {
      "text/html": [
       "<div>\n",
       "<style scoped>\n",
       "    .dataframe tbody tr th:only-of-type {\n",
       "        vertical-align: middle;\n",
       "    }\n",
       "\n",
       "    .dataframe tbody tr th {\n",
       "        vertical-align: top;\n",
       "    }\n",
       "\n",
       "    .dataframe thead th {\n",
       "        text-align: right;\n",
       "    }\n",
       "</style>\n",
       "<table border=\"1\" class=\"dataframe\">\n",
       "  <thead>\n",
       "    <tr style=\"text-align: right;\">\n",
       "      <th></th>\n",
       "      <th>NAME</th>\n",
       "      <th>ONLINE ORDER</th>\n",
       "      <th>BOOK TABLE</th>\n",
       "      <th>RATE</th>\n",
       "      <th>VOTES</th>\n",
       "      <th>CUISINES</th>\n",
       "      <th>APPROX COST(FOR TWO PEOPLE)</th>\n",
       "    </tr>\n",
       "  </thead>\n",
       "  <tbody>\n",
       "    <tr>\n",
       "      <th>0</th>\n",
       "      <td>JALSA</td>\n",
       "      <td>1</td>\n",
       "      <td>Yes</td>\n",
       "      <td>4.1/5</td>\n",
       "      <td>775</td>\n",
       "      <td>North Indian, Mughlai, Chinese</td>\n",
       "      <td>800</td>\n",
       "    </tr>\n",
       "    <tr>\n",
       "      <th>1</th>\n",
       "      <td>SPICE ELEPHANT</td>\n",
       "      <td>1</td>\n",
       "      <td>No</td>\n",
       "      <td>4.1/5</td>\n",
       "      <td>787</td>\n",
       "      <td>Chinese, North Indian, Thai</td>\n",
       "      <td>800</td>\n",
       "    </tr>\n",
       "    <tr>\n",
       "      <th>2</th>\n",
       "      <td>SAN CHURRO CAFE</td>\n",
       "      <td>1</td>\n",
       "      <td>No</td>\n",
       "      <td>3.8/5</td>\n",
       "      <td>918</td>\n",
       "      <td>Cafe, Mexican, Italian</td>\n",
       "      <td>800</td>\n",
       "    </tr>\n",
       "    <tr>\n",
       "      <th>3</th>\n",
       "      <td>ADDHURI UDUPI BHOJANA</td>\n",
       "      <td>0</td>\n",
       "      <td>No</td>\n",
       "      <td>3.7/5</td>\n",
       "      <td>88</td>\n",
       "      <td>South Indian, North Indian</td>\n",
       "      <td>300</td>\n",
       "    </tr>\n",
       "    <tr>\n",
       "      <th>4</th>\n",
       "      <td>GRAND VILLAGE</td>\n",
       "      <td>0</td>\n",
       "      <td>No</td>\n",
       "      <td>3.8/5</td>\n",
       "      <td>166</td>\n",
       "      <td>North Indian, Rajasthani</td>\n",
       "      <td>600</td>\n",
       "    </tr>\n",
       "  </tbody>\n",
       "</table>\n",
       "</div>"
      ],
      "text/plain": [
       "                    NAME  ONLINE ORDER BOOK TABLE   RATE  VOTES  \\\n",
       "0                  JALSA             1        Yes  4.1/5    775   \n",
       "1         SPICE ELEPHANT             1         No  4.1/5    787   \n",
       "2        SAN CHURRO CAFE             1         No  3.8/5    918   \n",
       "3  ADDHURI UDUPI BHOJANA             0         No  3.7/5     88   \n",
       "4          GRAND VILLAGE             0         No  3.8/5    166   \n",
       "\n",
       "                         CUISINES APPROX COST(FOR TWO PEOPLE)  \n",
       "0  North Indian, Mughlai, Chinese                         800  \n",
       "1     Chinese, North Indian, Thai                         800  \n",
       "2          Cafe, Mexican, Italian                         800  \n",
       "3      South Indian, North Indian                         300  \n",
       "4        North Indian, Rajasthani                         600  "
      ]
     },
     "execution_count": 433,
     "metadata": {},
     "output_type": "execute_result"
    }
   ],
   "source": [
    "df['ONLINE ORDER'] = df['ONLINE ORDER'].str.strip().str.upper()\n",
    "df['ONLINE ORDER'] = df['ONLINE ORDER'].map({'YES':1 , 'NO':0})\n",
    "df.head()"
   ]
  },
  {
   "cell_type": "code",
   "execution_count": 434,
   "id": "0ac199fc",
   "metadata": {},
   "outputs": [
    {
     "data": {
      "text/html": [
       "<div>\n",
       "<style scoped>\n",
       "    .dataframe tbody tr th:only-of-type {\n",
       "        vertical-align: middle;\n",
       "    }\n",
       "\n",
       "    .dataframe tbody tr th {\n",
       "        vertical-align: top;\n",
       "    }\n",
       "\n",
       "    .dataframe thead th {\n",
       "        text-align: right;\n",
       "    }\n",
       "</style>\n",
       "<table border=\"1\" class=\"dataframe\">\n",
       "  <thead>\n",
       "    <tr style=\"text-align: right;\">\n",
       "      <th></th>\n",
       "      <th>NAME</th>\n",
       "      <th>ONLINE ORDER</th>\n",
       "      <th>BOOK TABLE</th>\n",
       "      <th>RATE</th>\n",
       "      <th>VOTES</th>\n",
       "      <th>CUISINES</th>\n",
       "      <th>APPROX COST(FOR TWO PEOPLE)</th>\n",
       "    </tr>\n",
       "  </thead>\n",
       "  <tbody>\n",
       "    <tr>\n",
       "      <th>0</th>\n",
       "      <td>JALSA</td>\n",
       "      <td>1</td>\n",
       "      <td>1</td>\n",
       "      <td>4.1/5</td>\n",
       "      <td>775</td>\n",
       "      <td>North Indian, Mughlai, Chinese</td>\n",
       "      <td>800</td>\n",
       "    </tr>\n",
       "    <tr>\n",
       "      <th>1</th>\n",
       "      <td>SPICE ELEPHANT</td>\n",
       "      <td>1</td>\n",
       "      <td>0</td>\n",
       "      <td>4.1/5</td>\n",
       "      <td>787</td>\n",
       "      <td>Chinese, North Indian, Thai</td>\n",
       "      <td>800</td>\n",
       "    </tr>\n",
       "    <tr>\n",
       "      <th>2</th>\n",
       "      <td>SAN CHURRO CAFE</td>\n",
       "      <td>1</td>\n",
       "      <td>0</td>\n",
       "      <td>3.8/5</td>\n",
       "      <td>918</td>\n",
       "      <td>Cafe, Mexican, Italian</td>\n",
       "      <td>800</td>\n",
       "    </tr>\n",
       "    <tr>\n",
       "      <th>3</th>\n",
       "      <td>ADDHURI UDUPI BHOJANA</td>\n",
       "      <td>0</td>\n",
       "      <td>0</td>\n",
       "      <td>3.7/5</td>\n",
       "      <td>88</td>\n",
       "      <td>South Indian, North Indian</td>\n",
       "      <td>300</td>\n",
       "    </tr>\n",
       "    <tr>\n",
       "      <th>4</th>\n",
       "      <td>GRAND VILLAGE</td>\n",
       "      <td>0</td>\n",
       "      <td>0</td>\n",
       "      <td>3.8/5</td>\n",
       "      <td>166</td>\n",
       "      <td>North Indian, Rajasthani</td>\n",
       "      <td>600</td>\n",
       "    </tr>\n",
       "  </tbody>\n",
       "</table>\n",
       "</div>"
      ],
      "text/plain": [
       "                    NAME  ONLINE ORDER  BOOK TABLE   RATE  VOTES  \\\n",
       "0                  JALSA             1           1  4.1/5    775   \n",
       "1         SPICE ELEPHANT             1           0  4.1/5    787   \n",
       "2        SAN CHURRO CAFE             1           0  3.8/5    918   \n",
       "3  ADDHURI UDUPI BHOJANA             0           0  3.7/5     88   \n",
       "4          GRAND VILLAGE             0           0  3.8/5    166   \n",
       "\n",
       "                         CUISINES APPROX COST(FOR TWO PEOPLE)  \n",
       "0  North Indian, Mughlai, Chinese                         800  \n",
       "1     Chinese, North Indian, Thai                         800  \n",
       "2          Cafe, Mexican, Italian                         800  \n",
       "3      South Indian, North Indian                         300  \n",
       "4        North Indian, Rajasthani                         600  "
      ]
     },
     "execution_count": 434,
     "metadata": {},
     "output_type": "execute_result"
    }
   ],
   "source": [
    "df['BOOK TABLE'] = df['BOOK TABLE'].str.strip().str.upper()\n",
    "df['BOOK TABLE'] = df['BOOK TABLE'].map({'YES':1,'NO':0})\n",
    "df.head()"
   ]
  },
  {
   "cell_type": "code",
   "execution_count": 435,
   "id": "eb2b4eb2",
   "metadata": {},
   "outputs": [
    {
     "name": "stderr",
     "output_type": "stream",
     "text": [
      "C:\\Users\\might\\AppData\\Local\\Temp\\ipykernel_9724\\3801353781.py:1: FutureWarning: A value is trying to be set on a copy of a DataFrame or Series through chained assignment using an inplace method.\n",
      "The behavior will change in pandas 3.0. This inplace method will never work because the intermediate object on which we are setting values always behaves as a copy.\n",
      "\n",
      "For example, when doing 'df[col].method(value, inplace=True)', try using 'df.method({col: value}, inplace=True)' or df[col] = df[col].method(value) instead, to perform the operation inplace on the original object.\n",
      "\n",
      "\n",
      "  df['RATE'].fillna('',inplace=True)\n"
     ]
    }
   ],
   "source": [
    "df['RATE'].fillna('',inplace=True)"
   ]
  },
  {
   "cell_type": "code",
   "execution_count": 436,
   "id": "381714e4",
   "metadata": {},
   "outputs": [
    {
     "data": {
      "text/plain": [
       "np.int64(0)"
      ]
     },
     "execution_count": 436,
     "metadata": {},
     "output_type": "execute_result"
    }
   ],
   "source": [
    "df['RATE'].isna().sum()"
   ]
  },
  {
   "cell_type": "code",
   "execution_count": 437,
   "id": "f298d0a2",
   "metadata": {},
   "outputs": [
    {
     "data": {
      "text/plain": [
       "NAME                             0\n",
       "ONLINE ORDER                     0\n",
       "BOOK TABLE                       0\n",
       "RATE                             0\n",
       "VOTES                            0\n",
       "CUISINES                        28\n",
       "APPROX COST(FOR TWO PEOPLE)    141\n",
       "dtype: int64"
      ]
     },
     "execution_count": 437,
     "metadata": {},
     "output_type": "execute_result"
    }
   ],
   "source": [
    "df.isna().sum()"
   ]
  },
  {
   "cell_type": "code",
   "execution_count": 438,
   "id": "f9f12bab",
   "metadata": {},
   "outputs": [
    {
     "data": {
      "text/plain": [
       "np.int64(28)"
      ]
     },
     "execution_count": 438,
     "metadata": {},
     "output_type": "execute_result"
    }
   ],
   "source": [
    "df['CUISINES'].isna().sum()"
   ]
  },
  {
   "cell_type": "code",
   "execution_count": 439,
   "id": "358b1dca",
   "metadata": {},
   "outputs": [],
   "source": [
    "df = df.dropna(subset=['CUISINES'])"
   ]
  },
  {
   "cell_type": "code",
   "execution_count": 440,
   "id": "aace8f37",
   "metadata": {},
   "outputs": [
    {
     "data": {
      "text/plain": [
       "NAME                             0\n",
       "ONLINE ORDER                     0\n",
       "BOOK TABLE                       0\n",
       "RATE                             0\n",
       "VOTES                            0\n",
       "CUISINES                         0\n",
       "APPROX COST(FOR TWO PEOPLE)    125\n",
       "dtype: int64"
      ]
     },
     "execution_count": 440,
     "metadata": {},
     "output_type": "execute_result"
    }
   ],
   "source": [
    "df.isna().sum()"
   ]
  },
  {
   "cell_type": "code",
   "execution_count": 441,
   "id": "6a90ea93",
   "metadata": {},
   "outputs": [
    {
     "name": "stderr",
     "output_type": "stream",
     "text": [
      "C:\\Users\\might\\AppData\\Local\\Temp\\ipykernel_9724\\170245865.py:1: SettingWithCopyWarning: \n",
      "A value is trying to be set on a copy of a slice from a DataFrame.\n",
      "Try using .loc[row_indexer,col_indexer] = value instead\n",
      "\n",
      "See the caveats in the documentation: https://pandas.pydata.org/pandas-docs/stable/user_guide/indexing.html#returning-a-view-versus-a-copy\n",
      "  df['APPROX COST(FOR TWO PEOPLE)'] = df['APPROX COST(FOR TWO PEOPLE)'].str.replace(',','')\n"
     ]
    }
   ],
   "source": [
    "df['APPROX COST(FOR TWO PEOPLE)'] = df['APPROX COST(FOR TWO PEOPLE)'].str.replace(',','')"
   ]
  },
  {
   "cell_type": "code",
   "execution_count": 442,
   "id": "df94f11c",
   "metadata": {},
   "outputs": [
    {
     "data": {
      "text/plain": [
       "NAME                           object\n",
       "ONLINE ORDER                    int64\n",
       "BOOK TABLE                      int64\n",
       "RATE                           object\n",
       "VOTES                           int64\n",
       "CUISINES                       object\n",
       "APPROX COST(FOR TWO PEOPLE)    object\n",
       "dtype: object"
      ]
     },
     "execution_count": 442,
     "metadata": {},
     "output_type": "execute_result"
    }
   ],
   "source": [
    "df.dtypes"
   ]
  },
  {
   "cell_type": "code",
   "execution_count": 443,
   "id": "60f8a83e",
   "metadata": {},
   "outputs": [
    {
     "name": "stderr",
     "output_type": "stream",
     "text": [
      "C:\\Users\\might\\AppData\\Local\\Temp\\ipykernel_9724\\1333000668.py:1: SettingWithCopyWarning: \n",
      "A value is trying to be set on a copy of a slice from a DataFrame.\n",
      "Try using .loc[row_indexer,col_indexer] = value instead\n",
      "\n",
      "See the caveats in the documentation: https://pandas.pydata.org/pandas-docs/stable/user_guide/indexing.html#returning-a-view-versus-a-copy\n",
      "  df['APPROX COST(FOR TWO PEOPLE)'] = df['APPROX COST(FOR TWO PEOPLE)'].astype(float)\n"
     ]
    }
   ],
   "source": [
    "df['APPROX COST(FOR TWO PEOPLE)'] = df['APPROX COST(FOR TWO PEOPLE)'].astype(float)\n"
   ]
  },
  {
   "cell_type": "code",
   "execution_count": 444,
   "id": "7d6c609f",
   "metadata": {},
   "outputs": [
    {
     "data": {
      "text/plain": [
       "NAME                            object\n",
       "ONLINE ORDER                     int64\n",
       "BOOK TABLE                       int64\n",
       "RATE                            object\n",
       "VOTES                            int64\n",
       "CUISINES                        object\n",
       "APPROX COST(FOR TWO PEOPLE)    float64\n",
       "dtype: object"
      ]
     },
     "execution_count": 444,
     "metadata": {},
     "output_type": "execute_result"
    }
   ],
   "source": [
    "df.dtypes"
   ]
  },
  {
   "cell_type": "code",
   "execution_count": 445,
   "id": "aa3901e1",
   "metadata": {},
   "outputs": [
    {
     "data": {
      "text/plain": [
       "NAME                             0\n",
       "ONLINE ORDER                     0\n",
       "BOOK TABLE                       0\n",
       "RATE                             0\n",
       "VOTES                            0\n",
       "CUISINES                         0\n",
       "APPROX COST(FOR TWO PEOPLE)    125\n",
       "dtype: int64"
      ]
     },
     "execution_count": 445,
     "metadata": {},
     "output_type": "execute_result"
    }
   ],
   "source": [
    "df.isna().sum()"
   ]
  },
  {
   "cell_type": "code",
   "execution_count": 446,
   "id": "29ac959b",
   "metadata": {},
   "outputs": [
    {
     "data": {
      "text/plain": [
       "np.int64(125)"
      ]
     },
     "execution_count": 446,
     "metadata": {},
     "output_type": "execute_result"
    }
   ],
   "source": [
    "df['APPROX COST(FOR TWO PEOPLE)'].isna().sum()"
   ]
  },
  {
   "cell_type": "code",
   "execution_count": 447,
   "id": "605969ac",
   "metadata": {},
   "outputs": [
    {
     "name": "stderr",
     "output_type": "stream",
     "text": [
      "C:\\Users\\might\\AppData\\Local\\Temp\\ipykernel_9724\\2550601967.py:1: SettingWithCopyWarning: \n",
      "A value is trying to be set on a copy of a slice from a DataFrame.\n",
      "Try using .loc[row_indexer,col_indexer] = value instead\n",
      "\n",
      "See the caveats in the documentation: https://pandas.pydata.org/pandas-docs/stable/user_guide/indexing.html#returning-a-view-versus-a-copy\n",
      "  df['APPROX COST(FOR TWO PEOPLE)'] = df['APPROX COST(FOR TWO PEOPLE)'].fillna(df['APPROX COST(FOR TWO PEOPLE)'].mean())\n"
     ]
    }
   ],
   "source": [
    "df['APPROX COST(FOR TWO PEOPLE)'] = df['APPROX COST(FOR TWO PEOPLE)'].fillna(df['APPROX COST(FOR TWO PEOPLE)'].mean())"
   ]
  },
  {
   "cell_type": "code",
   "execution_count": 448,
   "id": "1a758bd3",
   "metadata": {},
   "outputs": [
    {
     "data": {
      "text/plain": [
       "NAME                           0\n",
       "ONLINE ORDER                   0\n",
       "BOOK TABLE                     0\n",
       "RATE                           0\n",
       "VOTES                          0\n",
       "CUISINES                       0\n",
       "APPROX COST(FOR TWO PEOPLE)    0\n",
       "dtype: int64"
      ]
     },
     "execution_count": 448,
     "metadata": {},
     "output_type": "execute_result"
    }
   ],
   "source": [
    "df.isna().sum()"
   ]
  },
  {
   "cell_type": "code",
   "execution_count": 449,
   "id": "fdebce60",
   "metadata": {},
   "outputs": [
    {
     "name": "stderr",
     "output_type": "stream",
     "text": [
      "C:\\Users\\might\\AppData\\Local\\Temp\\ipykernel_9724\\1816800305.py:1: SettingWithCopyWarning: \n",
      "A value is trying to be set on a copy of a slice from a DataFrame.\n",
      "Try using .loc[row_indexer,col_indexer] = value instead\n",
      "\n",
      "See the caveats in the documentation: https://pandas.pydata.org/pandas-docs/stable/user_guide/indexing.html#returning-a-view-versus-a-copy\n",
      "  df['APPROX COST(FOR TWO PEOPLE)'] = df['APPROX COST(FOR TWO PEOPLE)'].astype(int)\n"
     ]
    }
   ],
   "source": [
    "df['APPROX COST(FOR TWO PEOPLE)'] = df['APPROX COST(FOR TWO PEOPLE)'].astype(int)"
   ]
  },
  {
   "cell_type": "code",
   "execution_count": 450,
   "id": "b78d9cd1",
   "metadata": {},
   "outputs": [
    {
     "data": {
      "text/plain": [
       "NAME                           object\n",
       "ONLINE ORDER                    int64\n",
       "BOOK TABLE                      int64\n",
       "RATE                           object\n",
       "VOTES                           int64\n",
       "CUISINES                       object\n",
       "APPROX COST(FOR TWO PEOPLE)     int64\n",
       "dtype: object"
      ]
     },
     "execution_count": 450,
     "metadata": {},
     "output_type": "execute_result"
    }
   ],
   "source": [
    "df.dtypes"
   ]
  },
  {
   "cell_type": "code",
   "execution_count": 451,
   "id": "609cb762",
   "metadata": {},
   "outputs": [
    {
     "data": {
      "text/html": [
       "<div>\n",
       "<style scoped>\n",
       "    .dataframe tbody tr th:only-of-type {\n",
       "        vertical-align: middle;\n",
       "    }\n",
       "\n",
       "    .dataframe tbody tr th {\n",
       "        vertical-align: top;\n",
       "    }\n",
       "\n",
       "    .dataframe thead th {\n",
       "        text-align: right;\n",
       "    }\n",
       "</style>\n",
       "<table border=\"1\" class=\"dataframe\">\n",
       "  <thead>\n",
       "    <tr style=\"text-align: right;\">\n",
       "      <th></th>\n",
       "      <th>NAME</th>\n",
       "      <th>ONLINE ORDER</th>\n",
       "      <th>BOOK TABLE</th>\n",
       "      <th>RATE</th>\n",
       "      <th>VOTES</th>\n",
       "      <th>CUISINES</th>\n",
       "      <th>APPROX COST(FOR TWO PEOPLE)</th>\n",
       "    </tr>\n",
       "  </thead>\n",
       "  <tbody>\n",
       "    <tr>\n",
       "      <th>0</th>\n",
       "      <td>JALSA</td>\n",
       "      <td>1</td>\n",
       "      <td>1</td>\n",
       "      <td>4.1/5</td>\n",
       "      <td>775</td>\n",
       "      <td>North Indian, Mughlai, Chinese</td>\n",
       "      <td>800</td>\n",
       "    </tr>\n",
       "    <tr>\n",
       "      <th>1</th>\n",
       "      <td>SPICE ELEPHANT</td>\n",
       "      <td>1</td>\n",
       "      <td>0</td>\n",
       "      <td>4.1/5</td>\n",
       "      <td>787</td>\n",
       "      <td>Chinese, North Indian, Thai</td>\n",
       "      <td>800</td>\n",
       "    </tr>\n",
       "    <tr>\n",
       "      <th>2</th>\n",
       "      <td>SAN CHURRO CAFE</td>\n",
       "      <td>1</td>\n",
       "      <td>0</td>\n",
       "      <td>3.8/5</td>\n",
       "      <td>918</td>\n",
       "      <td>Cafe, Mexican, Italian</td>\n",
       "      <td>800</td>\n",
       "    </tr>\n",
       "    <tr>\n",
       "      <th>3</th>\n",
       "      <td>ADDHURI UDUPI BHOJANA</td>\n",
       "      <td>0</td>\n",
       "      <td>0</td>\n",
       "      <td>3.7/5</td>\n",
       "      <td>88</td>\n",
       "      <td>South Indian, North Indian</td>\n",
       "      <td>300</td>\n",
       "    </tr>\n",
       "    <tr>\n",
       "      <th>4</th>\n",
       "      <td>GRAND VILLAGE</td>\n",
       "      <td>0</td>\n",
       "      <td>0</td>\n",
       "      <td>3.8/5</td>\n",
       "      <td>166</td>\n",
       "      <td>North Indian, Rajasthani</td>\n",
       "      <td>600</td>\n",
       "    </tr>\n",
       "  </tbody>\n",
       "</table>\n",
       "</div>"
      ],
      "text/plain": [
       "                    NAME  ONLINE ORDER  BOOK TABLE   RATE  VOTES  \\\n",
       "0                  JALSA             1           1  4.1/5    775   \n",
       "1         SPICE ELEPHANT             1           0  4.1/5    787   \n",
       "2        SAN CHURRO CAFE             1           0  3.8/5    918   \n",
       "3  ADDHURI UDUPI BHOJANA             0           0  3.7/5     88   \n",
       "4          GRAND VILLAGE             0           0  3.8/5    166   \n",
       "\n",
       "                         CUISINES  APPROX COST(FOR TWO PEOPLE)  \n",
       "0  North Indian, Mughlai, Chinese                          800  \n",
       "1     Chinese, North Indian, Thai                          800  \n",
       "2          Cafe, Mexican, Italian                          800  \n",
       "3      South Indian, North Indian                          300  \n",
       "4        North Indian, Rajasthani                          600  "
      ]
     },
     "execution_count": 451,
     "metadata": {},
     "output_type": "execute_result"
    }
   ],
   "source": [
    "df.head()"
   ]
  },
  {
   "cell_type": "code",
   "execution_count": 452,
   "id": "e118cb19",
   "metadata": {},
   "outputs": [
    {
     "name": "stderr",
     "output_type": "stream",
     "text": [
      "C:\\Users\\might\\AppData\\Local\\Temp\\ipykernel_9724\\1871633224.py:1: SettingWithCopyWarning: \n",
      "A value is trying to be set on a copy of a slice from a DataFrame.\n",
      "Try using .loc[row_indexer,col_indexer] = value instead\n",
      "\n",
      "See the caveats in the documentation: https://pandas.pydata.org/pandas-docs/stable/user_guide/indexing.html#returning-a-view-versus-a-copy\n",
      "  df['RATE'] = df['RATE'].str.split('/').str[0]\n"
     ]
    }
   ],
   "source": [
    "df['RATE'] = df['RATE'].str.split('/').str[0]"
   ]
  },
  {
   "cell_type": "code",
   "execution_count": 453,
   "id": "ef18bf3d",
   "metadata": {},
   "outputs": [
    {
     "data": {
      "text/plain": [
       "array(['4.1', '3.8', '3.7', '3.6', '4.6', '4.0', '4.2', '3.9', '3.1',\n",
       "       '3.0', '3.2', '3.3', '2.8', '4.4', '4.3', 'NEW', '2.9', '3.5', '',\n",
       "       '2.6', '3.8 ', '3.4', '4.5', '2.5', '2.7', '4.7', '2.4', '2.2',\n",
       "       '2.3', '3.4 ', '-', '3.6 ', '4.8', '3.9 ', '4.2 ', '4.0 ', '4.1 ',\n",
       "       '3.7 ', '3.1 ', '2.9 ', '3.3 ', '2.8 ', '3.5 ', '2.7 ', '2.5 ',\n",
       "       '3.2 ', '2.6 ', '4.5 ', '4.3 ', '4.4 ', '4.9', '2.1', '2.0', '1.8',\n",
       "       '4.6 ', '4.9 ', '3.0 ', '4.8 ', '2.3 ', '4.7 ', '2.4 ', '2.1 ',\n",
       "       '2.2 ', '2.0 ', '1.8 '], dtype=object)"
      ]
     },
     "execution_count": 453,
     "metadata": {},
     "output_type": "execute_result"
    }
   ],
   "source": [
    "df['RATE'].unique()"
   ]
  },
  {
   "cell_type": "code",
   "execution_count": 454,
   "id": "5ecf31df",
   "metadata": {},
   "outputs": [
    {
     "name": "stderr",
     "output_type": "stream",
     "text": [
      "C:\\Users\\might\\AppData\\Local\\Temp\\ipykernel_9724\\1987291274.py:1: SettingWithCopyWarning: \n",
      "A value is trying to be set on a copy of a slice from a DataFrame.\n",
      "Try using .loc[row_indexer,col_indexer] = value instead\n",
      "\n",
      "See the caveats in the documentation: https://pandas.pydata.org/pandas-docs/stable/user_guide/indexing.html#returning-a-view-versus-a-copy\n",
      "  df['RATE']=df['RATE'].str.strip()\n"
     ]
    }
   ],
   "source": [
    "df['RATE']=df['RATE'].str.strip()"
   ]
  },
  {
   "cell_type": "code",
   "execution_count": 455,
   "id": "b2857b9a",
   "metadata": {},
   "outputs": [
    {
     "data": {
      "text/plain": [
       "array(['4.1', '3.8', '3.7', '3.6', '4.6', '4.0', '4.2', '3.9', '3.1',\n",
       "       '3.0', '3.2', '3.3', '2.8', '4.4', '4.3', 'NEW', '2.9', '3.5', '',\n",
       "       '2.6', '3.4', '4.5', '2.5', '2.7', '4.7', '2.4', '2.2', '2.3', '-',\n",
       "       '4.8', '4.9', '2.1', '2.0', '1.8'], dtype=object)"
      ]
     },
     "execution_count": 455,
     "metadata": {},
     "output_type": "execute_result"
    }
   ],
   "source": [
    "df['RATE'].unique()"
   ]
  },
  {
   "cell_type": "code",
   "execution_count": 456,
   "id": "0f498dfa",
   "metadata": {},
   "outputs": [
    {
     "name": "stderr",
     "output_type": "stream",
     "text": [
      "C:\\Users\\might\\AppData\\Local\\Temp\\ipykernel_9724\\1106353965.py:1: SettingWithCopyWarning: \n",
      "A value is trying to be set on a copy of a slice from a DataFrame.\n",
      "Try using .loc[row_indexer,col_indexer] = value instead\n",
      "\n",
      "See the caveats in the documentation: https://pandas.pydata.org/pandas-docs/stable/user_guide/indexing.html#returning-a-view-versus-a-copy\n",
      "  df['RATE']=df['RATE'].str.replace('NEW','')\n",
      "C:\\Users\\might\\AppData\\Local\\Temp\\ipykernel_9724\\1106353965.py:2: SettingWithCopyWarning: \n",
      "A value is trying to be set on a copy of a slice from a DataFrame.\n",
      "Try using .loc[row_indexer,col_indexer] = value instead\n",
      "\n",
      "See the caveats in the documentation: https://pandas.pydata.org/pandas-docs/stable/user_guide/indexing.html#returning-a-view-versus-a-copy\n",
      "  df['RATE']=df['RATE'].str.replace('-','')\n"
     ]
    }
   ],
   "source": [
    "df['RATE']=df['RATE'].str.replace('NEW','')\n",
    "df['RATE']=df['RATE'].str.replace('-','')"
   ]
  },
  {
   "cell_type": "code",
   "execution_count": 457,
   "id": "069964bb",
   "metadata": {},
   "outputs": [
    {
     "data": {
      "text/plain": [
       "array(['4.1', '3.8', '3.7', '3.6', '4.6', '4.0', '4.2', '3.9', '3.1',\n",
       "       '3.0', '3.2', '3.3', '2.8', '4.4', '4.3', '', '2.9', '3.5', '2.6',\n",
       "       '3.4', '4.5', '2.5', '2.7', '4.7', '2.4', '2.2', '2.3', '4.8',\n",
       "       '4.9', '2.1', '2.0', '1.8'], dtype=object)"
      ]
     },
     "execution_count": 457,
     "metadata": {},
     "output_type": "execute_result"
    }
   ],
   "source": [
    "df['RATE'].unique()"
   ]
  },
  {
   "cell_type": "code",
   "execution_count": 458,
   "id": "0ee73a83",
   "metadata": {},
   "outputs": [
    {
     "name": "stderr",
     "output_type": "stream",
     "text": [
      "C:\\Users\\might\\AppData\\Local\\Temp\\ipykernel_9724\\1821592310.py:1: SettingWithCopyWarning: \n",
      "A value is trying to be set on a copy of a slice from a DataFrame.\n",
      "Try using .loc[row_indexer,col_indexer] = value instead\n",
      "\n",
      "See the caveats in the documentation: https://pandas.pydata.org/pandas-docs/stable/user_guide/indexing.html#returning-a-view-versus-a-copy\n",
      "  df['RATE'] = df['RATE'].replace('',np.nan)\n"
     ]
    }
   ],
   "source": [
    "df['RATE'] = df['RATE'].replace('',np.nan)"
   ]
  },
  {
   "cell_type": "code",
   "execution_count": 459,
   "id": "7163c142",
   "metadata": {},
   "outputs": [
    {
     "data": {
      "text/plain": [
       "np.int64(3357)"
      ]
     },
     "execution_count": 459,
     "metadata": {},
     "output_type": "execute_result"
    }
   ],
   "source": [
    "df['RATE'].isna().sum()"
   ]
  },
  {
   "cell_type": "code",
   "execution_count": 460,
   "id": "ac240c80",
   "metadata": {},
   "outputs": [
    {
     "data": {
      "text/plain": [
       "NAME                              0\n",
       "ONLINE ORDER                      0\n",
       "BOOK TABLE                        0\n",
       "RATE                           3357\n",
       "VOTES                             0\n",
       "CUISINES                          0\n",
       "APPROX COST(FOR TWO PEOPLE)       0\n",
       "dtype: int64"
      ]
     },
     "execution_count": 460,
     "metadata": {},
     "output_type": "execute_result"
    }
   ],
   "source": [
    "df.isna().sum()"
   ]
  },
  {
   "cell_type": "code",
   "execution_count": 461,
   "id": "7f3bc013",
   "metadata": {},
   "outputs": [],
   "source": [
    "df = df.dropna(subset=['RATE'])"
   ]
  },
  {
   "cell_type": "code",
   "execution_count": 462,
   "id": "c187afcd",
   "metadata": {},
   "outputs": [],
   "source": [
    "df['RATE'] = df['RATE'].astype(float)"
   ]
  },
  {
   "cell_type": "code",
   "execution_count": 463,
   "id": "70748879",
   "metadata": {},
   "outputs": [
    {
     "data": {
      "text/plain": [
       "(19367, 7)"
      ]
     },
     "execution_count": 463,
     "metadata": {},
     "output_type": "execute_result"
    }
   ],
   "source": [
    "df.shape"
   ]
  },
  {
   "cell_type": "code",
   "execution_count": 464,
   "id": "27ce299e",
   "metadata": {},
   "outputs": [
    {
     "name": "stdout",
     "output_type": "stream",
     "text": [
      "<class 'pandas.core.frame.DataFrame'>\n",
      "Index: 19367 entries, 0 to 51677\n",
      "Data columns (total 7 columns):\n",
      " #   Column                       Non-Null Count  Dtype  \n",
      "---  ------                       --------------  -----  \n",
      " 0   NAME                         19367 non-null  object \n",
      " 1   ONLINE ORDER                 19367 non-null  int64  \n",
      " 2   BOOK TABLE                   19367 non-null  int64  \n",
      " 3   RATE                         19367 non-null  float64\n",
      " 4   VOTES                        19367 non-null  int64  \n",
      " 5   CUISINES                     19367 non-null  object \n",
      " 6   APPROX COST(FOR TWO PEOPLE)  19367 non-null  int64  \n",
      "dtypes: float64(1), int64(4), object(2)\n",
      "memory usage: 1.2+ MB\n"
     ]
    }
   ],
   "source": [
    "df.info()"
   ]
  },
  {
   "cell_type": "code",
   "execution_count": 465,
   "id": "28a435a9",
   "metadata": {},
   "outputs": [
    {
     "data": {
      "text/html": [
       "<div>\n",
       "<style scoped>\n",
       "    .dataframe tbody tr th:only-of-type {\n",
       "        vertical-align: middle;\n",
       "    }\n",
       "\n",
       "    .dataframe tbody tr th {\n",
       "        vertical-align: top;\n",
       "    }\n",
       "\n",
       "    .dataframe thead th {\n",
       "        text-align: right;\n",
       "    }\n",
       "</style>\n",
       "<table border=\"1\" class=\"dataframe\">\n",
       "  <thead>\n",
       "    <tr style=\"text-align: right;\">\n",
       "      <th></th>\n",
       "      <th>NAME</th>\n",
       "      <th>ONLINE ORDER</th>\n",
       "      <th>BOOK TABLE</th>\n",
       "      <th>RATE</th>\n",
       "      <th>VOTES</th>\n",
       "      <th>CUISINES</th>\n",
       "      <th>APPROX COST(FOR TWO PEOPLE)</th>\n",
       "    </tr>\n",
       "  </thead>\n",
       "  <tbody>\n",
       "    <tr>\n",
       "      <th>0</th>\n",
       "      <td>JALSA</td>\n",
       "      <td>1</td>\n",
       "      <td>1</td>\n",
       "      <td>4.1</td>\n",
       "      <td>775</td>\n",
       "      <td>North Indian, Mughlai, Chinese</td>\n",
       "      <td>800</td>\n",
       "    </tr>\n",
       "    <tr>\n",
       "      <th>1</th>\n",
       "      <td>SPICE ELEPHANT</td>\n",
       "      <td>1</td>\n",
       "      <td>0</td>\n",
       "      <td>4.1</td>\n",
       "      <td>787</td>\n",
       "      <td>Chinese, North Indian, Thai</td>\n",
       "      <td>800</td>\n",
       "    </tr>\n",
       "    <tr>\n",
       "      <th>2</th>\n",
       "      <td>SAN CHURRO CAFE</td>\n",
       "      <td>1</td>\n",
       "      <td>0</td>\n",
       "      <td>3.8</td>\n",
       "      <td>918</td>\n",
       "      <td>Cafe, Mexican, Italian</td>\n",
       "      <td>800</td>\n",
       "    </tr>\n",
       "    <tr>\n",
       "      <th>3</th>\n",
       "      <td>ADDHURI UDUPI BHOJANA</td>\n",
       "      <td>0</td>\n",
       "      <td>0</td>\n",
       "      <td>3.7</td>\n",
       "      <td>88</td>\n",
       "      <td>South Indian, North Indian</td>\n",
       "      <td>300</td>\n",
       "    </tr>\n",
       "    <tr>\n",
       "      <th>4</th>\n",
       "      <td>GRAND VILLAGE</td>\n",
       "      <td>0</td>\n",
       "      <td>0</td>\n",
       "      <td>3.8</td>\n",
       "      <td>166</td>\n",
       "      <td>North Indian, Rajasthani</td>\n",
       "      <td>600</td>\n",
       "    </tr>\n",
       "  </tbody>\n",
       "</table>\n",
       "</div>"
      ],
      "text/plain": [
       "                    NAME  ONLINE ORDER  BOOK TABLE  RATE  VOTES  \\\n",
       "0                  JALSA             1           1   4.1    775   \n",
       "1         SPICE ELEPHANT             1           0   4.1    787   \n",
       "2        SAN CHURRO CAFE             1           0   3.8    918   \n",
       "3  ADDHURI UDUPI BHOJANA             0           0   3.7     88   \n",
       "4          GRAND VILLAGE             0           0   3.8    166   \n",
       "\n",
       "                         CUISINES  APPROX COST(FOR TWO PEOPLE)  \n",
       "0  North Indian, Mughlai, Chinese                          800  \n",
       "1     Chinese, North Indian, Thai                          800  \n",
       "2          Cafe, Mexican, Italian                          800  \n",
       "3      South Indian, North Indian                          300  \n",
       "4        North Indian, Rajasthani                          600  "
      ]
     },
     "execution_count": 465,
     "metadata": {},
     "output_type": "execute_result"
    }
   ],
   "source": [
    "df.head()"
   ]
  },
  {
   "cell_type": "code",
   "execution_count": 466,
   "id": "2aabea8c",
   "metadata": {},
   "outputs": [
    {
     "data": {
      "text/html": [
       "<div>\n",
       "<style scoped>\n",
       "    .dataframe tbody tr th:only-of-type {\n",
       "        vertical-align: middle;\n",
       "    }\n",
       "\n",
       "    .dataframe tbody tr th {\n",
       "        vertical-align: top;\n",
       "    }\n",
       "\n",
       "    .dataframe thead th {\n",
       "        text-align: right;\n",
       "    }\n",
       "</style>\n",
       "<table border=\"1\" class=\"dataframe\">\n",
       "  <thead>\n",
       "    <tr style=\"text-align: right;\">\n",
       "      <th></th>\n",
       "      <th>NAME</th>\n",
       "      <th>ONLINE ORDER</th>\n",
       "      <th>BOOK TABLE</th>\n",
       "      <th>RATE</th>\n",
       "      <th>VOTES</th>\n",
       "      <th>CUISINES</th>\n",
       "      <th>APPROX COST(FOR TWO PEOPLE)</th>\n",
       "    </tr>\n",
       "  </thead>\n",
       "  <tbody>\n",
       "    <tr>\n",
       "      <th>0</th>\n",
       "      <td>JALSA</td>\n",
       "      <td>1</td>\n",
       "      <td>1</td>\n",
       "      <td>4.1</td>\n",
       "      <td>775</td>\n",
       "      <td>North Indian, Mughlai, Chinese</td>\n",
       "      <td>800</td>\n",
       "    </tr>\n",
       "    <tr>\n",
       "      <th>1</th>\n",
       "      <td>SPICE ELEPHANT</td>\n",
       "      <td>1</td>\n",
       "      <td>0</td>\n",
       "      <td>4.1</td>\n",
       "      <td>787</td>\n",
       "      <td>Chinese, North Indian, Thai</td>\n",
       "      <td>800</td>\n",
       "    </tr>\n",
       "    <tr>\n",
       "      <th>2</th>\n",
       "      <td>SAN CHURRO CAFE</td>\n",
       "      <td>1</td>\n",
       "      <td>0</td>\n",
       "      <td>3.8</td>\n",
       "      <td>918</td>\n",
       "      <td>Cafe, Mexican, Italian</td>\n",
       "      <td>800</td>\n",
       "    </tr>\n",
       "    <tr>\n",
       "      <th>3</th>\n",
       "      <td>ADDHURI UDUPI BHOJANA</td>\n",
       "      <td>0</td>\n",
       "      <td>0</td>\n",
       "      <td>3.7</td>\n",
       "      <td>88</td>\n",
       "      <td>South Indian, North Indian</td>\n",
       "      <td>300</td>\n",
       "    </tr>\n",
       "    <tr>\n",
       "      <th>4</th>\n",
       "      <td>GRAND VILLAGE</td>\n",
       "      <td>0</td>\n",
       "      <td>0</td>\n",
       "      <td>3.8</td>\n",
       "      <td>166</td>\n",
       "      <td>North Indian, Rajasthani</td>\n",
       "      <td>600</td>\n",
       "    </tr>\n",
       "    <tr>\n",
       "      <th>...</th>\n",
       "      <td>...</td>\n",
       "      <td>...</td>\n",
       "      <td>...</td>\n",
       "      <td>...</td>\n",
       "      <td>...</td>\n",
       "      <td>...</td>\n",
       "      <td>...</td>\n",
       "    </tr>\n",
       "    <tr>\n",
       "      <th>19362</th>\n",
       "      <td>NOOK - ALOFT BENGALURU CESSNA BUSINESS PARK</td>\n",
       "      <td>0</td>\n",
       "      <td>1</td>\n",
       "      <td>4.2</td>\n",
       "      <td>411</td>\n",
       "      <td>North Indian, Continental, Asian</td>\n",
       "      <td>1800</td>\n",
       "    </tr>\n",
       "    <tr>\n",
       "      <th>19363</th>\n",
       "      <td>JUST PARATHAS</td>\n",
       "      <td>0</td>\n",
       "      <td>0</td>\n",
       "      <td>3.4</td>\n",
       "      <td>5</td>\n",
       "      <td>North Indian</td>\n",
       "      <td>250</td>\n",
       "    </tr>\n",
       "    <tr>\n",
       "      <th>19364</th>\n",
       "      <td>SEEYA RESTAURANT</td>\n",
       "      <td>0</td>\n",
       "      <td>0</td>\n",
       "      <td>3.3</td>\n",
       "      <td>4</td>\n",
       "      <td>North Indian, Kerala, Chinese</td>\n",
       "      <td>350</td>\n",
       "    </tr>\n",
       "    <tr>\n",
       "      <th>19365</th>\n",
       "      <td>ANDHRA SPICES</td>\n",
       "      <td>0</td>\n",
       "      <td>0</td>\n",
       "      <td>3.2</td>\n",
       "      <td>4</td>\n",
       "      <td>Andhra, Chinese, South Indian</td>\n",
       "      <td>562</td>\n",
       "    </tr>\n",
       "    <tr>\n",
       "      <th>19366</th>\n",
       "      <td>BHAGINI</td>\n",
       "      <td>0</td>\n",
       "      <td>0</td>\n",
       "      <td>2.5</td>\n",
       "      <td>81</td>\n",
       "      <td>Andhra, South Indian, Chinese, North Indian</td>\n",
       "      <td>800</td>\n",
       "    </tr>\n",
       "  </tbody>\n",
       "</table>\n",
       "<p>19367 rows × 7 columns</p>\n",
       "</div>"
      ],
      "text/plain": [
       "                                              NAME  ONLINE ORDER  BOOK TABLE  \\\n",
       "0                                            JALSA             1           1   \n",
       "1                                   SPICE ELEPHANT             1           0   \n",
       "2                                  SAN CHURRO CAFE             1           0   \n",
       "3                            ADDHURI UDUPI BHOJANA             0           0   \n",
       "4                                    GRAND VILLAGE             0           0   \n",
       "...                                            ...           ...         ...   \n",
       "19362  NOOK - ALOFT BENGALURU CESSNA BUSINESS PARK             0           1   \n",
       "19363                                JUST PARATHAS             0           0   \n",
       "19364                             SEEYA RESTAURANT             0           0   \n",
       "19365                                ANDHRA SPICES             0           0   \n",
       "19366                                      BHAGINI             0           0   \n",
       "\n",
       "       RATE  VOTES                                     CUISINES  \\\n",
       "0       4.1    775               North Indian, Mughlai, Chinese   \n",
       "1       4.1    787                  Chinese, North Indian, Thai   \n",
       "2       3.8    918                       Cafe, Mexican, Italian   \n",
       "3       3.7     88                   South Indian, North Indian   \n",
       "4       3.8    166                     North Indian, Rajasthani   \n",
       "...     ...    ...                                          ...   \n",
       "19362   4.2    411             North Indian, Continental, Asian   \n",
       "19363   3.4      5                                 North Indian   \n",
       "19364   3.3      4                North Indian, Kerala, Chinese   \n",
       "19365   3.2      4                Andhra, Chinese, South Indian   \n",
       "19366   2.5     81  Andhra, South Indian, Chinese, North Indian   \n",
       "\n",
       "       APPROX COST(FOR TWO PEOPLE)  \n",
       "0                              800  \n",
       "1                              800  \n",
       "2                              800  \n",
       "3                              300  \n",
       "4                              600  \n",
       "...                            ...  \n",
       "19362                         1800  \n",
       "19363                          250  \n",
       "19364                          350  \n",
       "19365                          562  \n",
       "19366                          800  \n",
       "\n",
       "[19367 rows x 7 columns]"
      ]
     },
     "execution_count": 466,
     "metadata": {},
     "output_type": "execute_result"
    }
   ],
   "source": [
    "df.reset_index(drop=True)"
   ]
  },
  {
   "cell_type": "code",
   "execution_count": 467,
   "id": "2ee90342",
   "metadata": {},
   "outputs": [],
   "source": [
    "df.to_excel('Zomato_cleaned.xlsx',index=False)"
   ]
  },
  {
   "cell_type": "code",
   "execution_count": null,
   "id": "f9b0361c",
   "metadata": {},
   "outputs": [],
   "source": []
  }
 ],
 "metadata": {
  "kernelspec": {
   "display_name": "Python 3",
   "language": "python",
   "name": "python3"
  },
  "language_info": {
   "codemirror_mode": {
    "name": "ipython",
    "version": 3
   },
   "file_extension": ".py",
   "mimetype": "text/x-python",
   "name": "python",
   "nbconvert_exporter": "python",
   "pygments_lexer": "ipython3",
   "version": "3.13.2"
  }
 },
 "nbformat": 4,
 "nbformat_minor": 5
}
